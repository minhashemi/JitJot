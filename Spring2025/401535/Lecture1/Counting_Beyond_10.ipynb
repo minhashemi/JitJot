{
  "nbformat": 4,
  "nbformat_minor": 0,
  "metadata": {
    "colab": {
      "provenance": []
    },
    "kernelspec": {
      "name": "python3",
      "display_name": "Python 3"
    },
    "language_info": {
      "name": "python"
    }
  },
  "cells": [
    {
      "cell_type": "markdown",
      "source": [
        "# 🧮 **Binary & Beyond: Exploring Number Systems and Bitwise Operations**  \n",
        "### 🚀 [Amin Hashemi](https://github.com/minhashemi)\n",
        "---\n",
        "🔢 **Topics Covered**:\n",
        "- **Counting Beyond 10**: Understanding different number systems (Binary, Octal, Hexadecimal).\n",
        "- **Base Conversion**: Converting between decimal, binary, octal, and hexadecimal.\n",
        "- **Binary Arithmetic**: Addition, subtraction, multiplication, and division in binary.\n",
        "- **Logical & Bitwise Operators**: AND, OR, XOR, shifts (`<<`, `>>`).\n",
        "- **Applications**: How binary logic powers computing.\n",
        "\n",
        "📌 *This notebook is an interactive guide designed to help you grasp the power of binary mathematics and logical operations!*  \n",
        "\n",
        "---\n",
        "✏ **Run the cells below and experiment! 🚀**\n"
      ],
      "metadata": {
        "id": "rKYBcgIvtwBF"
      }
    },
    {
      "cell_type": "markdown",
      "source": [
        "## `bin`, `oct`, `hex` in Python\n",
        "\n",
        "Python provides built-in functions to convert numbers between different bases:\n",
        "\n",
        "- `bin(x)`: Converts an integer `x` to a binary string prefixed with `0b`.\n",
        "- `oct(x)`: Converts an integer `x` to an octal string prefixed with `0o`.\n",
        "- `hex(x)`: Converts an integer `x` to a hexadecimal string prefixed with `0x`.\n",
        "\n",
        "### **Examples:**\n",
        "```python\n",
        "binary = bin(num)  \n",
        "octal = oct(num)   \n",
        "hexadecimal = hex(num)  \n",
        "\n",
        "print(binary, octal, hexadecimal)\n",
        "\n"
      ],
      "metadata": {
        "id": "VxDwNuf92kec"
      }
    },
    {
      "cell_type": "code",
      "source": [
        "num = 26\n",
        "# dec to b, o, x\n",
        "# dec -> bin\n",
        "binary_repr = bin(num)\n",
        "# dec -> oct\n",
        "octal_repr = oct(num)\n",
        "# dec -> hex\n",
        "hex_repr = hex(num)\n",
        "\n",
        "print(f\"Decimal: {num}\")\n",
        "print(f\"Binary: {binary_repr}\")\n",
        "print(f\"Octal: {octal_repr}\")\n",
        "print(f\"Hexadecimal: {hex_repr}\")"
      ],
      "metadata": {
        "colab": {
          "base_uri": "https://localhost:8080/"
        },
        "id": "pMNoOw_h1kdI",
        "outputId": "404d604d-cc0b-4325-a97a-3fd4508ade3c"
      },
      "execution_count": null,
      "outputs": [
        {
          "output_type": "stream",
          "name": "stdout",
          "text": [
            "Decimal: 26\n",
            "Binary: 0b11010\n",
            "Octal: 0o32\n",
            "Hexadecimal: 0x1a\n"
          ]
        }
      ]
    },
    {
      "cell_type": "markdown",
      "source": [
        "## `int` Function with Different Bases\n",
        "\n",
        "The `int()` function converts numbers from different bases to a decimal (base-10) integer.\n",
        "\n",
        "### **Example:**\n",
        "```python\n",
        "print(int('1010', 2))  # 10 (Binary to Decimal)\n",
        "print(int('52', 8))    # 42 (Octal to Decimal)\n",
        "print(int('2A', 16))   # 42 (Hexadecimal to Decimal)\n",
        "print(int('132', 5))   # 42 (Base-5 to Decimal)\n",
        "print(int('Z', 36))    # 35 (Base-36 to Decimal)\n"
      ],
      "metadata": {
        "id": "4Ky8WJ4x2S5g"
      }
    },
    {
      "cell_type": "code",
      "source": [
        "# bin, oct, hex to dec\n",
        "binary_num = \"101010\"\n",
        "octal_num = \"52\"\n",
        "hex_num = \"2A\"\n",
        "\n",
        "# bin -> dec\n",
        "decimal_from_bin = int(binary_num, base = 2)\n",
        "# oct -> dec\n",
        "decimal_from_oct = int(octal_num, 8)\n",
        "# hex -> dec\n",
        "decimal_from_hex = int(hex_num, base = 16)\n",
        "\n",
        "print(f\"Binary {decimal_from_bin}\")\n",
        "print(f\"Octal {decimal_from_oct}\")\n",
        "print(f\"Hexadecimal {decimal_from_hex}\")"
      ],
      "metadata": {
        "colab": {
          "base_uri": "https://localhost:8080/"
        },
        "id": "lzDyQ8LN14tl",
        "outputId": "e3ff7dd2-6d3b-4530-cad7-276154ade2aa"
      },
      "execution_count": null,
      "outputs": [
        {
          "output_type": "stream",
          "name": "stdout",
          "text": [
            "Binary 42\n",
            "Octal 42\n",
            "Hexadecimal 42\n"
          ]
        }
      ]
    },
    {
      "cell_type": "code",
      "source": [
        "# other bases\n",
        "\n",
        "print(int(\"1432\", base = 5))"
      ],
      "metadata": {
        "colab": {
          "base_uri": "https://localhost:8080/"
        },
        "id": "ggi-Mg8O4DyI",
        "outputId": "88e26738-ec72-4350-d03d-6d2f83fba835"
      },
      "execution_count": null,
      "outputs": [
        {
          "output_type": "stream",
          "name": "stdout",
          "text": [
            "242\n"
          ]
        }
      ]
    },
    {
      "cell_type": "markdown",
      "source": [
        "## Bitwise Operators in Python\n",
        "\n",
        "Bitwise operators allow operations at the binary level, manipulating individual bits of integers.\n",
        "\n",
        "### **Bitwise Operations:**\n",
        "- **AND (`&`)** – Performs a bitwise AND between two numbers, setting each bit to `1` if both corresponding bits are `1`.\n",
        "- **OR (`|`)** – Performs a bitwise OR, setting each bit to `1` if at least one of the corresponding bits is `1`.\n",
        "- **XOR (`^`)** – Performs a bitwise XOR, setting each bit to `1` if only one of the corresponding bits is `1`, otherwise `0`.\n",
        "- **Left Shift (`<<`)** – Shifts bits to the left by a specified number of places, effectively multiplying the number by `2^n`.\n",
        "- **Right Shift (`>>`)** – Shifts bits to the right by a specified number of places, effectively performing integer division by `2^n`.\n",
        "\n"
      ],
      "metadata": {
        "id": "5Zd-dzOQ5QeX"
      }
    },
    {
      "cell_type": "code",
      "source": [
        "# Bitwise Operators\n",
        "x, y = 5, 3  # Binary: 5 -> 101, 3 -> 011\n",
        "print(f\"{x} & {y} (AND): {x & y}\")   # 101 & 011 = 001 -> 1\n",
        "print(f\"{x} | {y} (OR): {x | y}\")   # 101 | 011 = 111 -> 7\n",
        "print(f\"{x} ^ {y} (XOR): {x ^ y}\")  # 101 ^ 011 = 110 -> 6\n",
        "print(f\"{x} << 1 (Left Shift): {x << 1}\")  # 1010 -> 10 (*2n)\n",
        "print(f\"{x} >> 1 (Right Shift): {x >> 1}\") # 10 -> 2 (//2)"
      ],
      "metadata": {
        "colab": {
          "base_uri": "https://localhost:8080/"
        },
        "id": "OLC5rQdQ2Lxg",
        "outputId": "60d192aa-c72d-446f-bad1-a6e548a61beb"
      },
      "execution_count": 1,
      "outputs": [
        {
          "output_type": "stream",
          "name": "stdout",
          "text": [
            "5 & 3 (AND): 1\n",
            "5 | 3 (OR): 7\n",
            "5 ^ 3 (XOR): 6\n",
            "5 << 1 (Left Shift): 10\n",
            "5 >> 1 (Right Shift): 2\n"
          ]
        }
      ]
    },
    {
      "cell_type": "code",
      "execution_count": null,
      "metadata": {
        "colab": {
          "base_uri": "https://localhost:8080/"
        },
        "id": "UmNqk4gN1M9R",
        "outputId": "d9b72736-ffc5-421b-f2af-43f13a965afb"
      },
      "outputs": [
        {
          "output_type": "stream",
          "name": "stdout",
          "text": [
            "\n",
            "Using f-strings for formatted output:\n",
            "Binary of 42: 101010\n",
            "Octal of 42: 52\n",
            "Hex of 42: 2a\n"
          ]
        }
      ],
      "source": [
        "# Using f-strings for formatted output\n",
        "print(f\"\\nUsing f-strings for formatted output:\")\n",
        "print(f\"Binary of {num}: {num:b}\")\n",
        "print(f\"Octal of {num}: {num:o}\")\n",
        "print(f\"Hex of {num}: {num:x}\")"
      ]
    },
    {
      "cell_type": "markdown",
      "source": [
        "## Arithmetic"
      ],
      "metadata": {
        "id": "KhZHcroGxXwP"
      }
    },
    {
      "cell_type": "code",
      "source": [
        "a = 0b1010\n",
        "b = 0b0011\n",
        "\n",
        "addition = a + b\n",
        "print(bin(addition))"
      ],
      "metadata": {
        "colab": {
          "base_uri": "https://localhost:8080/"
        },
        "id": "Pkzj67iJxXb9",
        "outputId": "9bdbe70b-1628-4f00-93f7-ca82ba6cbd9a"
      },
      "execution_count": 2,
      "outputs": [
        {
          "output_type": "stream",
          "name": "stdout",
          "text": [
            "0b1101\n"
          ]
        }
      ]
    },
    {
      "cell_type": "code",
      "source": [
        "a = 0b1010\n",
        "b = 0b0011\n",
        "\n",
        "subtraction = a - b\n",
        "print(bin(subtraction))"
      ],
      "metadata": {
        "colab": {
          "base_uri": "https://localhost:8080/"
        },
        "id": "br4PL9Ltxg5Y",
        "outputId": "a07125f8-0d4d-4295-d00b-117d3a08dca8"
      },
      "execution_count": 3,
      "outputs": [
        {
          "output_type": "stream",
          "name": "stdout",
          "text": [
            "0b111\n"
          ]
        }
      ]
    },
    {
      "cell_type": "code",
      "source": [
        "a = 0b101\n",
        "b = 0b11\n",
        "\n",
        "multiplication = a * b\n",
        "print(bin(multiplication))"
      ],
      "metadata": {
        "id": "BFmk2uYoxl5s",
        "colab": {
          "base_uri": "https://localhost:8080/"
        },
        "outputId": "dd206219-f472-45d1-b7c2-d2e0bc03dc76"
      },
      "execution_count": 4,
      "outputs": [
        {
          "output_type": "stream",
          "name": "stdout",
          "text": [
            "0b1111\n"
          ]
        }
      ]
    },
    {
      "cell_type": "code",
      "source": [
        "a = 0b1010\n",
        "b = 0b10\n",
        "\n",
        "division = a // b\n",
        "print(bin(division))"
      ],
      "metadata": {
        "id": "bxvfpgEXxozt",
        "colab": {
          "base_uri": "https://localhost:8080/"
        },
        "outputId": "28746d4e-f5b7-469f-9c43-a3f78a8a86fc"
      },
      "execution_count": 5,
      "outputs": [
        {
          "output_type": "stream",
          "name": "stdout",
          "text": [
            "0b101\n"
          ]
        }
      ]
    },
    {
      "cell_type": "code",
      "source": [
        "a = 0b1010\n",
        "b = 0b11\n",
        "\n",
        "remainder = a % b\n",
        "print(bin(remainder))"
      ],
      "metadata": {
        "id": "HuDL9HqtxtNv",
        "colab": {
          "base_uri": "https://localhost:8080/"
        },
        "outputId": "005811fe-1448-43c1-9b03-bb9ebcc0400d"
      },
      "execution_count": 6,
      "outputs": [
        {
          "output_type": "stream",
          "name": "stdout",
          "text": [
            "0b1\n"
          ]
        }
      ]
    }
  ]
}